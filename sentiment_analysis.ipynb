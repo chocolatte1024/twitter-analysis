{
 "cells": [
  {
   "cell_type": "code",
   "execution_count": 1,
   "id": "361fb088",
   "metadata": {},
   "outputs": [
    {
     "name": "stdout",
     "output_type": "stream",
     "text": [
      "{'neg': 0.0, 'neu': 0.526, 'pos': 0.474, 'compound': 0.736}\n",
      "{'neg': 0.0, 'neu': 0.526, 'pos': 0.474, 'compound': 0.736}\n",
      "{'neg': 0.0, 'neu': 0.526, 'pos': 0.474, 'compound': 0.736}\n",
      "{'neg': 0.0, 'neu': 0.526, 'pos': 0.474, 'compound': 0.736}\n"
     ]
    },
    {
     "data": {
      "text/plain": [
       "'\\nlol = list(csv.reader(open(\\'data.tsv\\', \\'r\\'), delimiter=\\'\\t\\'))\\n\\ni = 1\\nwhile i<len(lol):\\n    \\n    name = lol[i][0]\\n    \\n    avgs = {\\n        \"neg\": 0,\\n        \"neu\": 0,\\n        \"pos\": 0, \\n        \"compound\": 0}\\n    count = 0\\n\\n    while i<len(lol) and lol[i][0]==name:\\n        line = lol[i]\\n        tweet = line[1].translate(non_bmp_map) \\n        res = sia.polarity_scores(tweet)\\n        for sent in res:\\n            avgs[sent] += res[sent]\\n            count += 1\\n        i += 1\\n    \\n    for sent in avgs:\\n        avgs[sent]/=count\\n    \\n    print(name, \": \", avgs, \"\\n\", sep=\"\")\\n'"
      ]
     },
     "execution_count": 1,
     "metadata": {},
     "output_type": "execute_result"
    }
   ],
   "source": [
    "import csv\n",
    "import sys\n",
    "from nltk.sentiment import SentimentIntensityAnalyzer\n",
    "\n",
    "non_bmp_map = dict.fromkeys(range(0x10000, sys.maxunicode + 1), 0xfffd)\n",
    "sia = SentimentIntensityAnalyzer()\n",
    "\n",
    "res = sia.polarity_scores(\"I really like ice cream! But not on rainy days like today.\")\n",
    "print(res)\n",
    "res = sia.polarity_scores(\"I really like ice cream! But not on rainy days like today.\")\n",
    "print(res)\n",
    "res = sia.polarity_scores(\"I really like ice cream! But not on rainy days like today.\")\n",
    "print(res)\n",
    "res = sia.polarity_scores(\"I really like ice cream! But not on rainy days like today.\")\n",
    "print(res)\n",
    "\n",
    "\n",
    "'''\n",
    "lol = list(csv.reader(open('data.tsv', 'r'), delimiter='\\t'))\n",
    "\n",
    "i = 1\n",
    "while i<len(lol):\n",
    "    \n",
    "    name = lol[i][0]\n",
    "    \n",
    "    avgs = {\n",
    "        \"neg\": 0,\n",
    "        \"neu\": 0,\n",
    "        \"pos\": 0, \n",
    "        \"compound\": 0}\n",
    "    count = 0\n",
    "\n",
    "    while i<len(lol) and lol[i][0]==name:\n",
    "        line = lol[i]\n",
    "        tweet = line[1].translate(non_bmp_map) \n",
    "        res = sia.polarity_scores(tweet)\n",
    "        for sent in res:\n",
    "            avgs[sent] += res[sent]\n",
    "            count += 1\n",
    "        i += 1\n",
    "    \n",
    "    for sent in avgs:\n",
    "        avgs[sent]/=count\n",
    "    \n",
    "    print(name, \": \", avgs, \"\\n\", sep=\"\")\n",
    "'''"
   ]
  },
  {
   "cell_type": "code",
   "execution_count": null,
   "id": "bba21e3e",
   "metadata": {},
   "outputs": [],
   "source": []
  },
  {
   "cell_type": "code",
   "execution_count": null,
   "id": "96652d3a",
   "metadata": {},
   "outputs": [],
   "source": []
  }
 ],
 "metadata": {
  "kernelspec": {
   "display_name": "Python 3 (ipykernel)",
   "language": "python",
   "name": "python3"
  },
  "language_info": {
   "codemirror_mode": {
    "name": "ipython",
    "version": 3
   },
   "file_extension": ".py",
   "mimetype": "text/x-python",
   "name": "python",
   "nbconvert_exporter": "python",
   "pygments_lexer": "ipython3",
   "version": "3.9.13"
  }
 },
 "nbformat": 4,
 "nbformat_minor": 5
}
