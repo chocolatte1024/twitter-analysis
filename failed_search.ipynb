{
 "cells": [
  {
   "cell_type": "code",
   "execution_count": 1,
   "id": "454f6978",
   "metadata": {},
   "outputs": [
    {
     "ename": "ImportError",
     "evalue": "cannot import name 'Search' from 'twitter.search' (/opt/anaconda3/lib/python3.9/site-packages/twitter/search.py)",
     "output_type": "error",
     "traceback": [
      "\u001b[0;31m---------------------------------------------------------------------------\u001b[0m",
      "\u001b[0;31mImportError\u001b[0m                               Traceback (most recent call last)",
      "\u001b[0;32m/var/folders/rk/pcrjtdf937j08g0zvswfhthr0000gn/T/ipykernel_72305/1910581622.py\u001b[0m in \u001b[0;36m<module>\u001b[0;34m\u001b[0m\n\u001b[0;32m----> 1\u001b[0;31m \u001b[0;32mfrom\u001b[0m \u001b[0mtwitter\u001b[0m\u001b[0;34m.\u001b[0m\u001b[0msearch\u001b[0m \u001b[0;32mimport\u001b[0m \u001b[0mSearch\u001b[0m\u001b[0;34m\u001b[0m\u001b[0;34m\u001b[0m\u001b[0m\n\u001b[0m\u001b[1;32m      2\u001b[0m \u001b[0;34m\u001b[0m\u001b[0m\n\u001b[1;32m      3\u001b[0m \u001b[0memail\u001b[0m\u001b[0;34m,\u001b[0m \u001b[0musername\u001b[0m\u001b[0;34m,\u001b[0m \u001b[0mpassword\u001b[0m \u001b[0;34m=\u001b[0m \u001b[0;34m'katherineliu1010@gmail.com'\u001b[0m\u001b[0;34m,\u001b[0m \u001b[0;34m'kaytheyrine'\u001b[0m\u001b[0;34m,\u001b[0m \u001b[0;34m\"asdfghjklRossdon'tlook\"\u001b[0m\u001b[0;34m\u001b[0m\u001b[0;34m\u001b[0m\u001b[0m\n\u001b[1;32m      4\u001b[0m \u001b[0msearch\u001b[0m \u001b[0;34m=\u001b[0m \u001b[0mSearch\u001b[0m\u001b[0;34m(\u001b[0m\u001b[0memail\u001b[0m\u001b[0;34m,\u001b[0m \u001b[0musername\u001b[0m\u001b[0;34m,\u001b[0m \u001b[0mpassword\u001b[0m\u001b[0;34m)\u001b[0m\u001b[0;34m\u001b[0m\u001b[0;34m\u001b[0m\u001b[0m\n\u001b[1;32m      5\u001b[0m \u001b[0;34m\u001b[0m\u001b[0m\n",
      "\u001b[0;31mImportError\u001b[0m: cannot import name 'Search' from 'twitter.search' (/opt/anaconda3/lib/python3.9/site-packages/twitter/search.py)"
     ]
    }
   ],
   "source": [
    "from twitter.search import Search\n",
    "\n",
    "email, username, password = 'katherineliu1010@gmail.com', 'kaytheyrine', \"asdfghjklRossdon'tlook\"\n",
    "search = Search(email, username, password)\n",
    "\n",
    "latest_results = search.run(\n",
    "    'brasil portugal -argentina',\n",
    "    'paperswithcode -tensorflow -tf',\n",
    "    'ios android',\n",
    "    limit=100,\n",
    "    latest=True,  # get latest tweets only\n",
    ")\n",
    "\n",
    "general_results = search.run(\n",
    "    '(#dogs OR #cats) min_retweets:500',\n",
    "    'min_faves:10000 @elonmusk until:2023-02-16 since:2023-02-01',\n",
    "    'brasil portugal -argentina',\n",
    "    'paperswithcode -tensorflow -tf',\n",
    "    'skateboarding baseball guitar',\n",
    "    'cheese bread butter',\n",
    "    'ios android',\n",
    "    limit=100,\n",
    ")"
   ]
  },
  {
   "cell_type": "code",
   "execution_count": null,
   "id": "73e475b1",
   "metadata": {},
   "outputs": [],
   "source": []
  }
 ],
 "metadata": {
  "kernelspec": {
   "display_name": "Python 3 (ipykernel)",
   "language": "python",
   "name": "python3"
  },
  "language_info": {
   "codemirror_mode": {
    "name": "ipython",
    "version": 3
   },
   "file_extension": ".py",
   "mimetype": "text/x-python",
   "name": "python",
   "nbconvert_exporter": "python",
   "pygments_lexer": "ipython3",
   "version": "3.9.13"
  }
 },
 "nbformat": 4,
 "nbformat_minor": 5
}
