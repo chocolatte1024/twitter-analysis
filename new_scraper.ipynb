{
 "cells": [
  {
   "cell_type": "code",
   "execution_count": 3,
   "id": "ee9bb68f",
   "metadata": {},
   "outputs": [
    {
     "name": "stderr",
     "output_type": "stream",
     "text": [
      "2023-06-12 09:03:44.497  WARNING  snscrape.modules.twitter  Stopping after 20 empty pages\n",
      "2023-06-12 09:04:15.236  WARNING  snscrape.modules.twitter  Stopping after 20 empty pages\n"
     ]
    },
    {
     "data": {
      "text/plain": [
       "0"
      ]
     },
     "execution_count": 3,
     "metadata": {},
     "output_type": "execute_result"
    }
   ],
   "source": [
    "import os\n",
    "\n",
    "# os.system('snscrape --jsonl --max-results 500 twitter-search \"from:MileyCyrus since:2011-2-1 until:2011-7-1\">dep_miley')\n",
    "# os.system('snscrape --jsonl --max-results 500 twitter-search \"from:katyperry since:2017-6-15 until:2017-11-15\">dep_katy')\n",
    "# os.system('snscrape --jsonl --max-results 500 twitter-search \"from:MichaelPhelps since:2014-4-25 until:2014-9-25\">dep_michael')\n",
    "# os.system('snscrape --jsonl --max-results 500 twitter-search \"from:lilireinhart since:2015-6-1 until:2015-11-1\">dep_lili')\n",
    "# os.system('snscrape --jsonl --max-results 500 twitter-search \"from:WayneBrady until:2014-8-1\">dep_wayne')\n",
    "# os.system('snscrape --jsonl --max-results 500 twitter-search \"from:selenagomez since:2017-7-30 until:2017-12-28\">dep_selena')\n",
    "# os.system('snscrape --jsonl --max-results 500 twitter-search \"from:Maisie_Williams since:2014-1-1 until:2014-6-1\">dep_maisie')\n",
    "# os.system('snscrape --jsonl --max-results 500 twitter-search \"from:justinbieber since:2018-7-1 until:2018-12-1\">dep_justin')\n",
    "# os.system('snscrape --jsonl --max-results 500 twitter-search \"from:andygrammer since:2020-6-1 until:2020-12-1\">dep_andy')\n",
    "# os.system('snscrape --jsonl --max-results 500 twitter-search \"from:JBALVIN since:2020-5-1 until:2020-11-1\">dep_jose')\n",
    "# os.system('snscrape --jsonl --max-results 500 twitter-search \"from:lizzo since:2019-1-1 until:2019-7-1\">dep_lizzo')\n",
    "# os.system('snscrape --jsonl --max-results 500 twitter-search \"from:jvn since:2013-4-1 until:2013-10-1\">dep_jonathan')\n",
    "# os.system('snscrape --jsonl --max-results 500 twitter-search \"from:BusyPhilipps until:2009-5-1\">dep_busy')\n",
    "# os.system('snscrape --jsonl --max-results 500 twitter-search \"from:PeteWentz since:2010-7-1 until:2011-1-1\">dep_pete')\n",
    "\n",
    "\n",
    "# os.system('snscrape --jsonl --max-results 500 twitter-search \"from:MileyCyrus since:2021-1-1\">not_miley')\n",
    "# os.system('snscrape --jsonl --max-results 500 twitter-search \"from:katyperry since:2021-1-1\">not_katy')\n",
    "# os.system('snscrape --jsonl --max-results 500 twitter-search \"from:MichaelPhelps since:2021-1-1\">not_michael')\n",
    "# os.system('snscrape --jsonl --max-results 500 twitter-search \"from:lilireinhart since:2021-1-1\">not_lili')\n",
    "# os.system('snscrape --jsonl --max-results 500 twitter-search \"from:WayneBrady since:2021-1-1\">not_wayne')\n",
    "# os.system('snscrape --jsonl --max-results 500 twitter-search \"from:selenagomez since:2021-1-1\">not_selena')\n",
    "# os.system('snscrape --jsonl --max-results 500 twitter-search \"from:Maisie_Williams since:2021-1-1\">not_maisie')\n",
    "# os.system('snscrape --jsonl --max-results 500 twitter-search \"from:justinbieber since:2021-1-1\">not_justin')\n",
    "os.system('snscrape --jsonl --max-results 500 twitter-search \"from:andygrammer until:2020-1-1\">not_andy')\n",
    "os.system('snscrape --jsonl --max-results 500 twitter-search \"from:JBALVIN since:2021-6-1\">not_jose')\n",
    "# os.system('snscrape --jsonl --max-results 500 twitter-search \"from:lizzo since:2020-1-1\">not_lizzo')\n",
    "os.system('snscrape --jsonl --max-results 500 twitter-search \"from:jvn since:2018-5-1\">not_jonathan')\n",
    "os.system('snscrape --jsonl --max-results 500 twitter-search \"from:BusyPhilipps since:2022-1-1\">not_busy')\n",
    "os.system('snscrape --jsonl --max-results 500 twitter-search \"from:PeteWentz since:2015-1-1\">not_pete')\n",
    "\n",
    "\n",
    "\n"
   ]
  },
  {
   "cell_type": "code",
   "execution_count": null,
   "id": "e0efb09a",
   "metadata": {},
   "outputs": [],
   "source": []
  }
 ],
 "metadata": {
  "kernelspec": {
   "display_name": "Python 3 (ipykernel)",
   "language": "python",
   "name": "python3"
  },
  "language_info": {
   "codemirror_mode": {
    "name": "ipython",
    "version": 3
   },
   "file_extension": ".py",
   "mimetype": "text/x-python",
   "name": "python",
   "nbconvert_exporter": "python",
   "pygments_lexer": "ipython3",
   "version": "3.9.13"
  }
 },
 "nbformat": 4,
 "nbformat_minor": 5
}
