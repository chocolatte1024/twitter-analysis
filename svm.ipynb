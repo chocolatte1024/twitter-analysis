{
 "cells": [
  {
   "cell_type": "code",
   "execution_count": 28,
   "id": "cee7883f",
   "metadata": {},
   "outputs": [
    {
     "name": "stdout",
     "output_type": "stream",
     "text": [
      "[[0.0435     0.72313636 0.23336364 0.25612273 0.16296296 0.\n",
      "  1.        ]\n",
      " [0.01783938 0.8685544  0.11359585 0.21774663 1.26143791 1.\n",
      "  0.        ]\n",
      " [0.05791011 0.75502247 0.18706742 0.20786404 0.58552632 1.\n",
      "  0.        ]\n",
      " [0.0429372  0.80963285 0.14742512 0.21198502 1.40816326 1.\n",
      "  0.        ]\n",
      " [0.         0.79       0.21       0.43225357 0.18666667 0.\n",
      "  1.        ]\n",
      " [0.06022616 0.71116851 0.22640798 0.35058958 4.84946237 1.\n",
      "  0.        ]\n",
      " [0.02451136 0.86588636 0.10960227 0.15392046 0.61538461 1.\n",
      "  0.        ]\n",
      " [0.049428   0.715494   0.235084   0.3338916  6.66666667 0.\n",
      "  1.        ]\n",
      " [0.028125   0.825125   0.14675    0.3287375  0.12030075 0.\n",
      "  1.        ]\n",
      " [0.01474576 0.94079661 0.04445763 0.04404407 0.64130435 0.\n",
      "  1.        ]\n",
      " [0.04603226 0.79354839 0.16041936 0.22791613 0.28440367 0.\n",
      "  1.        ]\n",
      " [0.07492208 0.77311688 0.15197403 0.13472467 0.93902439 1.\n",
      "  0.        ]\n",
      " [0.05438    0.772412   0.173202   0.2519548  2.85714286 0.\n",
      "  1.        ]\n",
      " [0.01003941 0.89106897 0.09396552 0.13753448 0.29       0.\n",
      "  1.        ]\n",
      " [0.02716    0.84892    0.11192    0.2251166  0.66577896 1.\n",
      "  0.        ]\n",
      " [0.06529114 0.76928481 0.16541772 0.15725127 0.1803653  1.\n",
      "  0.        ]\n",
      " [0.03884211 0.85126316 0.10989474 0.20975263 0.02777778 1.\n",
      "  0.        ]\n",
      " [0.0115     0.79230556 0.19616667 0.34656667 0.04460966 0.\n",
      "  1.        ]\n",
      " [0.023832   0.860566   0.115594   0.226805   0.63532402 1.\n",
      "  0.        ]\n",
      " [0.02628223 0.82303484 0.14718815 0.2570892  0.32950631 1.\n",
      "  0.        ]\n",
      " [0.04284431 0.68979042 0.26735329 0.43448323 0.18742985 0.\n",
      "  1.        ]\n",
      " [0.038036   0.782548   0.179406   0.3340038  1.11358575 0.\n",
      "  1.        ]\n",
      " [0.01338428 0.95509607 0.03151747 0.02337707 0.73046252 0.\n",
      "  1.        ]\n",
      " [0.064852   0.78254    0.152618   0.1560606  0.65963061 0.\n",
      "  1.        ]\n",
      " [0.07536782 0.76013218 0.15302874 0.12776552 0.33142857 1.\n",
      "  0.        ]\n",
      " [0.03798    0.805198   0.154828   0.1689478  0.36363636 0.\n",
      "  1.        ]]\n",
      "[1, 1, 1, 1, 1, 1, 1, 1, 1, 1, 1, 1, 1, 0, 0, 0, 0, 0, 0, 0, 0, 0, 0, 0, 0, 0]\n",
      "[[-0.02215652 -0.21400037  0.25113767  0.38467247  0.847332    0.07786935\n",
      "  -0.07786935]]\n",
      "Accuracy: 0.5714285714285714\n"
     ]
    }
   ],
   "source": [
    "from sklearn import datasets\n",
    "from sklearn.model_selection import train_test_split\n",
    "from sklearn import svm\n",
    "from sklearn import metrics\n",
    "import numpy as np\n",
    "\n",
    "dep_data = np.genfromtxt('bestdata.csv', delimiter=',')\n",
    "print(dep_data)\n",
    "\n",
    "\n",
    "\n",
    "dep_targ = [1]*13 + [0]*13\n",
    "print(dep_targ)\n",
    "\n",
    "\n",
    "X_train, X_test, y_train, y_test = train_test_split(dep_data, dep_targ, test_size=0.25, random_state=38)\n",
    "\n",
    "clf = svm.SVC(kernel='linear')\n",
    "clf.fit(X_train, y_train)\n",
    "print(clf.coef_)\n",
    "\n",
    "y_pred = clf.predict(X_test)\n",
    "\n",
    "print('Accuracy:', metrics.accuracy_score(y_test, y_pred))\n"
   ]
  },
  {
   "cell_type": "code",
   "execution_count": null,
   "id": "cb341958",
   "metadata": {},
   "outputs": [],
   "source": []
  },
  {
   "cell_type": "code",
   "execution_count": null,
   "id": "39c53a0d",
   "metadata": {},
   "outputs": [],
   "source": []
  },
  {
   "cell_type": "code",
   "execution_count": null,
   "id": "006b3605",
   "metadata": {},
   "outputs": [],
   "source": []
  },
  {
   "cell_type": "code",
   "execution_count": null,
   "id": "82b65dd0",
   "metadata": {},
   "outputs": [],
   "source": []
  },
  {
   "cell_type": "code",
   "execution_count": null,
   "id": "94a9cbb2",
   "metadata": {},
   "outputs": [],
   "source": []
  },
  {
   "cell_type": "code",
   "execution_count": null,
   "id": "039c0c15",
   "metadata": {},
   "outputs": [],
   "source": []
  },
  {
   "cell_type": "code",
   "execution_count": null,
   "id": "f0e7b557",
   "metadata": {},
   "outputs": [],
   "source": []
  },
  {
   "cell_type": "code",
   "execution_count": null,
   "id": "2b8e3895",
   "metadata": {},
   "outputs": [],
   "source": []
  },
  {
   "cell_type": "code",
   "execution_count": null,
   "id": "4300fef6",
   "metadata": {},
   "outputs": [],
   "source": []
  }
 ],
 "metadata": {
  "kernelspec": {
   "display_name": "Python 3 (ipykernel)",
   "language": "python",
   "name": "python3"
  },
  "language_info": {
   "codemirror_mode": {
    "name": "ipython",
    "version": 3
   },
   "file_extension": ".py",
   "mimetype": "text/x-python",
   "name": "python",
   "nbconvert_exporter": "python",
   "pygments_lexer": "ipython3",
   "version": "3.9.13"
  }
 },
 "nbformat": 4,
 "nbformat_minor": 5
}
