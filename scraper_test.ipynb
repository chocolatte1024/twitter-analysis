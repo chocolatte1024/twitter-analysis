{
 "cells": [
  {
   "cell_type": "code",
   "execution_count": 14,
   "id": "f9c85d85",
   "metadata": {},
   "outputs": [],
   "source": [
    "import snscrape.modules.twitter as snt\n",
    "import xlwt\n",
    "\n",
    "world_cup_scraper = snt.TwitterSearchScraper(\"from:MileyCyrus since:2016-6-14 until:2016-7-28\")\n",
    "column_names = ['URL', 'Date', 'Content', 'Username','Display Name']\n",
    "\n",
    "def grab_tweets(total_number):\n",
    "    \n",
    "    final_tweets = []\n",
    "    \n",
    "    for index, world_cup_tweet in enumerate(world_cup_scraper.get_items()):\n",
    "\n",
    "        user = world_cup_tweet.user\n",
    "\n",
    "        tweet_data = [world_cup_tweet.url, \n",
    "                      str(world_cup_tweet.date), \n",
    "                      world_cup_tweet.rawContent, \n",
    "                      user.username, \n",
    "                      user.displayname,\n",
    "                      ]\n",
    "\n",
    "        final_tweets.append(tweet_data)\n",
    "\n",
    "        if(index == total_number):\n",
    "            break\n",
    "    \n",
    "    return final_tweets\n",
    "\n",
    "\n",
    "\n",
    "# Call the grab_tweets() function\n",
    "tweets = grab_tweets(10)\n",
    "\n",
    "\"\"\"\n",
    "\n",
    "# Show the shape\n",
    "print(final_tweets_data.shape)\n",
    "\n",
    "# Show the first 5 rows \n",
    "display(final_tweets_data)\n",
    "\n",
    "\"\"\"\n",
    "\n",
    "wb = xlwt.Workbook()\n",
    "\n",
    "sheet = wb.add_sheet(\"Test XLWT\")\n",
    "\n",
    "for i in range(5):\n",
    "    sheet.write(0, i, column_names[i])\n",
    "\n",
    "for i in range(1, len(tweets)+1):\n",
    "    for j in range(len(tweets[i-1])):\n",
    "        sheet.write(i, j, tweets[i-1][j])\n",
    "\n",
    "wb.save('xlwt_test.xls')"
   ]
  },
  {
   "cell_type": "code",
   "execution_count": null,
   "id": "edd73b31",
   "metadata": {},
   "outputs": [],
   "source": []
  },
  {
   "cell_type": "code",
   "execution_count": null,
   "id": "51b7565d",
   "metadata": {},
   "outputs": [],
   "source": []
  }
 ],
 "metadata": {
  "kernelspec": {
   "display_name": "Python 3 (ipykernel)",
   "language": "python",
   "name": "python3"
  },
  "language_info": {
   "codemirror_mode": {
    "name": "ipython",
    "version": 3
   },
   "file_extension": ".py",
   "mimetype": "text/x-python",
   "name": "python",
   "nbconvert_exporter": "python",
   "pygments_lexer": "ipython3",
   "version": "3.9.13"
  }
 },
 "nbformat": 4,
 "nbformat_minor": 5
}
